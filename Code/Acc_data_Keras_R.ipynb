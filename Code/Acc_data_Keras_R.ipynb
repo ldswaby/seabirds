{
 "cells": [
  {
   "cell_type": "code",
   "execution_count": 7,
   "id": "dfcb16a1",
   "metadata": {
    "scrolled": true
   },
   "outputs": [
    {
     "data": {
      "text/html": [
       "<style>\n",
       ".list-inline {list-style: none; margin:0; padding: 0}\n",
       ".list-inline>li {display: inline-block}\n",
       ".list-inline>li:not(:last-child)::after {content: \"\\00b7\"; padding: 0 .5ex}\n",
       "</style>\n",
       "<ol class=list-inline><li>1</li><li>2</li><li>3</li><li>4</li><li>5</li><li>6</li><li>7</li></ol>\n"
      ],
      "text/latex": [
       "\\begin{enumerate*}\n",
       "\\item 1\n",
       "\\item 2\n",
       "\\item 3\n",
       "\\item 4\n",
       "\\item 5\n",
       "\\item 6\n",
       "\\item 7\n",
       "\\end{enumerate*}\n"
      ],
      "text/markdown": [
       "1. 1\n",
       "2. 2\n",
       "3. 3\n",
       "4. 4\n",
       "5. 5\n",
       "6. 6\n",
       "7. 7\n",
       "\n",
       "\n"
      ],
      "text/plain": [
       "[1] 1 2 3 4 5 6 7"
      ]
     },
     "metadata": {},
     "output_type": "display_data"
    },
    {
     "data": {
      "text/html": [
       "<style>\n",
       ".list-inline {list-style: none; margin:0; padding: 0}\n",
       ".list-inline>li {display: inline-block}\n",
       ".list-inline>li:not(:last-child)::after {content: \"\\00b7\"; padding: 0 .5ex}\n",
       "</style>\n",
       "<ol class=list-inline><li>2</li><li>2</li><li>2</li><li>2</li><li>2</li><li>2</li><li>2</li></ol>\n"
      ],
      "text/latex": [
       "\\begin{enumerate*}\n",
       "\\item 2\n",
       "\\item 2\n",
       "\\item 2\n",
       "\\item 2\n",
       "\\item 2\n",
       "\\item 2\n",
       "\\item 2\n",
       "\\end{enumerate*}\n"
      ],
      "text/markdown": [
       "1. 2\n",
       "2. 2\n",
       "3. 2\n",
       "4. 2\n",
       "5. 2\n",
       "6. 2\n",
       "7. 2\n",
       "\n",
       "\n"
      ],
      "text/plain": [
       "[1] 2 2 2 2 2 2 2"
      ]
     },
     "metadata": {},
     "output_type": "display_data"
    }
   ],
   "source": [
    "a = seq(1, 7)\n",
    "b = rep(2, 7)\n",
    "a\n",
    "b"
   ]
  },
  {
   "cell_type": "markdown",
   "id": "1590f489",
   "metadata": {},
   "source": [
    "# Training a DNN (Keras) using accelertion data\n",
    "\n",
    "#### Imports:"
   ]
  },
  {
   "cell_type": "code",
   "execution_count": 114,
   "id": "9c953734",
   "metadata": {},
   "outputs": [
    {
     "name": "stdout",
     "output_type": "stream",
     "text": [
      "\n",
      "Installation complete.\n",
      "\n"
     ]
    }
   ],
   "source": [
    "library(data.table)\n",
    "library(keras)\n",
    "install_keras()"
   ]
  },
  {
   "cell_type": "markdown",
   "id": "f1435417",
   "metadata": {},
   "source": [
    "#### Import data:"
   ]
  },
  {
   "cell_type": "code",
   "execution_count": 115,
   "id": "35f4f32b",
   "metadata": {},
   "outputs": [],
   "source": [
    "data <- t(fread(file = '../Data/centred_acc_train_data.csv', header = TRUE))\n",
    "rownames(data) <- NULL"
   ]
  },
  {
   "cell_type": "markdown",
   "id": "204a6a09",
   "metadata": {},
   "source": [
    "#### Balance the dataset for model:"
   ]
  },
  {
   "cell_type": "code",
   "execution_count": 132,
   "id": "9e5bde22",
   "metadata": {},
   "outputs": [],
   "source": [
    "set.seed(3)"
   ]
  },
  {
   "cell_type": "code",
   "execution_count": 133,
   "id": "042cf5b8",
   "metadata": {},
   "outputs": [],
   "source": [
    "dive_ix <- which(data[,ncol(data)]==1)  # indicies of dive rows\n",
    "no_dive_ix <- which(data[,ncol(data)]==0)  # indicies of non-dive rows\n",
    "no_dive_ix_samp <- sample(no_dive_ix, length(dive_ix))  # sample the same no of non-dive rows that are in dive rows \n",
    "balanced.data.ix <- sample(c(dive_ix, no_dive_ix_samp))  # concatenate and shuffle the indicies\n",
    "balanced.data <- data[balanced.data.ix,]  # subset data\n",
    "all.zeros <- data[-balanced.data.ix,]"
   ]
  },
  {
   "cell_type": "markdown",
   "id": "5df77836",
   "metadata": {},
   "source": [
    "#### Extract explanatory and response variables and subset some indicies for training:"
   ]
  },
  {
   "cell_type": "code",
   "execution_count": 134,
   "id": "d9aedb9f",
   "metadata": {},
   "outputs": [],
   "source": [
    "# Extract explanatory and response variables\n",
    "exp <- balanced.data[,-ncol(balanced.data)]\n",
    "resp <- balanced.data[,ncol(balanced.data)]\n",
    "\n",
    "# Random half for training\n",
    "training <- sample(nrow(exp), nrow(exp)*2/3)  # 2/3 training 1/3 test\n",
    "\n",
    "# Set data\n",
    "train.x <- exp[training,]\n",
    "train.y <- resp[training]\n",
    "test.x <- exp[-training,]\n",
    "test.y <- resp[-training]"
   ]
  },
  {
   "cell_type": "markdown",
   "id": "9d4c4235",
   "metadata": {},
   "source": [
    "#### Building model:"
   ]
  },
  {
   "cell_type": "code",
   "execution_count": 135,
   "id": "fa18d4bd",
   "metadata": {},
   "outputs": [],
   "source": [
    "#784"
   ]
  },
  {
   "cell_type": "code",
   "execution_count": 136,
   "id": "0e963846",
   "metadata": {},
   "outputs": [],
   "source": [
    "# Alternative simple classification MLP with dropout\n",
    "classify_model <- keras_model_sequential()\n",
    "# 2048 inputs into 784 hidden units (with dropout to help generalisation)\n",
    "classify_model %>%\n",
    "  layer_dense(units = 200, input_shape = ncol(train.x), activation = 'relu') %>% # Size of layer\n",
    "  layer_dropout(rate=0.2) %>%                 # Apply dropout to nodes in layer\n",
    "  layer_dense(units = 200, activation = 'relu') %>% # Size of layer\n",
    "  layer_dropout(rate=0.2) %>%                 # Apply dropout to nodes in layer\n",
    "  layer_dense(units = 1, activation = 'sigmoid') # final layer is is single softmax output\n",
    "\n",
    "#compiling the defined model with metric = accuracy and optimiser as adam.\n",
    "classify_model %>% compile(\n",
    "  optimizer = 'rmsprop',\n",
    "  loss = 'binary_crossentropy',\n",
    "  metrics = c('accuracy')\n",
    ")"
   ]
  },
  {
   "cell_type": "markdown",
   "id": "c537ca9f",
   "metadata": {},
   "source": [
    "#### Fit Model:"
   ]
  },
  {
   "cell_type": "code",
   "execution_count": 137,
   "id": "3e54faeb",
   "metadata": {},
   "outputs": [],
   "source": [
    "classify_model %>% fit(train.x, train.y, epochs = 200, batch_size = 128)"
   ]
  },
  {
   "cell_type": "markdown",
   "id": "30575951",
   "metadata": {},
   "source": [
    "#### Evaluate model:"
   ]
  },
  {
   "cell_type": "code",
   "execution_count": 156,
   "id": "9378343f",
   "metadata": {
    "scrolled": false
   },
   "outputs": [
    {
     "name": "stdout",
     "output_type": "stream",
     "text": [
      "\n",
      "Evaluation:"
     ]
    },
    {
     "data": {
      "text/html": [
       "<style>\n",
       ".dl-inline {width: auto; margin:0; padding: 0}\n",
       ".dl-inline>dt, .dl-inline>dd {float: none; width: auto; display: inline-block}\n",
       ".dl-inline>dt::after {content: \":\\0020\"; padding-right: .5ex}\n",
       ".dl-inline>dt:not(:first-of-type) {padding-left: .5ex}\n",
       "</style><dl class=dl-inline><dt>loss</dt><dd>0.614786207675934</dd><dt>accuracy</dt><dd>0.941558420658112</dd></dl>\n"
      ],
      "text/latex": [
       "\\begin{description*}\n",
       "\\item[loss] 0.614786207675934\n",
       "\\item[accuracy] 0.941558420658112\n",
       "\\end{description*}\n"
      ],
      "text/markdown": [
       "loss\n",
       ":   0.614786207675934accuracy\n",
       ":   0.941558420658112\n",
       "\n"
      ],
      "text/plain": [
       "     loss  accuracy \n",
       "0.6147862 0.9415584 "
      ]
     },
     "metadata": {},
     "output_type": "display_data"
    },
    {
     "name": "stdout",
     "output_type": "stream",
     "text": [
      "\n",
      "Confusion Matrix:"
     ]
    },
    {
     "data": {
      "text/plain": [
       "   test.y\n",
       "     0  1\n",
       "  0 70  8\n",
       "  1  1 75"
      ]
     },
     "metadata": {},
     "output_type": "display_data"
    }
   ],
   "source": [
    "cat(\"\\nEvaluation:\")\n",
    "classify_model %>% evaluate(test.x, test.y, batch_size = 128) \n",
    "\n",
    "# Confusion matrix (?)\n",
    "cat(\"\\nConfusion Matrix:\")\n",
    "predictions <- predict(classify_model, test.x) # each row is a picture and each column is a category so each cell is a prob.\n",
    "table(round(predictions), test.y) # confusion matrix (but why must I round here?)"
   ]
  },
  {
   "cell_type": "markdown",
   "id": "66815df7",
   "metadata": {},
   "source": [
    "#### Evaluate on all zeros (remainder of dataset)"
   ]
  },
  {
   "cell_type": "code",
   "execution_count": 139,
   "id": "db514e76",
   "metadata": {},
   "outputs": [
    {
     "name": "stdout",
     "output_type": "stream",
     "text": [
      "\n",
      "Evaluation:"
     ]
    },
    {
     "data": {
      "text/html": [
       "<style>\n",
       ".dl-inline {width: auto; margin:0; padding: 0}\n",
       ".dl-inline>dt, .dl-inline>dd {float: none; width: auto; display: inline-block}\n",
       ".dl-inline>dt::after {content: \":\\0020\"; padding-right: .5ex}\n",
       ".dl-inline>dt:not(:first-of-type) {padding-left: .5ex}\n",
       "</style><dl class=dl-inline><dt>loss</dt><dd>0.293851137161255</dd><dt>accuracy</dt><dd>0.968360245227814</dd></dl>\n"
      ],
      "text/latex": [
       "\\begin{description*}\n",
       "\\item[loss] 0.293851137161255\n",
       "\\item[accuracy] 0.968360245227814\n",
       "\\end{description*}\n"
      ],
      "text/markdown": [
       "loss\n",
       ":   0.293851137161255accuracy\n",
       ":   0.968360245227814\n",
       "\n"
      ],
      "text/plain": [
       "     loss  accuracy \n",
       "0.2938511 0.9683602 "
      ]
     },
     "metadata": {},
     "output_type": "display_data"
    },
    {
     "name": "stdout",
     "output_type": "stream",
     "text": [
      "\n",
      "Confusion Matrix:"
     ]
    },
    {
     "data": {
      "text/plain": [
       "   resp2\n",
       "         0\n",
       "  0 483694\n",
       "  1  15804"
      ]
     },
     "metadata": {},
     "output_type": "display_data"
    },
    {
     "name": "stdout",
     "output_type": "stream",
     "text": [
      "\n",
      "Correlation:"
     ]
    },
    {
     "data": {
      "text/html": [
       "0.968360233674609"
      ],
      "text/latex": [
       "0.968360233674609"
      ],
      "text/markdown": [
       "0.968360233674609"
      ],
      "text/plain": [
       "[1] 0.9683602"
      ]
     },
     "metadata": {},
     "output_type": "display_data"
    }
   ],
   "source": [
    "# Split data\n",
    "exp2 <- all.zeros[,-ncol(all.zeros)]\n",
    "resp2 <- all.zeros[,ncol(all.zeros)]\n",
    "\n",
    "cat(\"\\nEvaluation:\")\n",
    "classify_model %>% evaluate(exp2, resp2, batch_size = 128) \n",
    "\n",
    "# Confusion matrix (?)\n",
    "cat(\"\\nConfusion Matrix:\")\n",
    "predictions2 <- predict(classify_model, exp2) # each row is a picture and each column is a category so each cell is a prob.\n",
    "table(round(predictions2), resp2) # confusion matrix (but why must I round here?)\n",
    "\n",
    "# Corr\n",
    "#cor.test(predictions, resp2)\n",
    "cat(\"\\nCorrelation:\")\n",
    "sum(round(predictions2)==0)/length(resp2)"
   ]
  },
  {
   "cell_type": "markdown",
   "id": "323b1d94",
   "metadata": {},
   "source": [
    "### All dives"
   ]
  },
  {
   "cell_type": "code",
   "execution_count": 151,
   "id": "1270c145",
   "metadata": {},
   "outputs": [
    {
     "name": "stdout",
     "output_type": "stream",
     "text": [
      "\n",
      "Evaluation:"
     ]
    },
    {
     "data": {
      "text/html": [
       "<style>\n",
       ".dl-inline {width: auto; margin:0; padding: 0}\n",
       ".dl-inline>dt, .dl-inline>dd {float: none; width: auto; display: inline-block}\n",
       ".dl-inline>dt::after {content: \":\\0020\"; padding-right: .5ex}\n",
       ".dl-inline>dt:not(:first-of-type) {padding-left: .5ex}\n",
       "</style><dl class=dl-inline><dt>loss</dt><dd>0.40056100487709</dd><dt>accuracy</dt><dd>0.9653679728508</dd></dl>\n"
      ],
      "text/latex": [
       "\\begin{description*}\n",
       "\\item[loss] 0.40056100487709\n",
       "\\item[accuracy] 0.9653679728508\n",
       "\\end{description*}\n"
      ],
      "text/markdown": [
       "loss\n",
       ":   0.40056100487709accuracy\n",
       ":   0.9653679728508\n",
       "\n"
      ],
      "text/plain": [
       "    loss accuracy \n",
       "0.400561 0.965368 "
      ]
     },
     "metadata": {},
     "output_type": "display_data"
    },
    {
     "name": "stdout",
     "output_type": "stream",
     "text": [
      "\n",
      "Confusion Matrix:"
     ]
    },
    {
     "data": {
      "text/plain": [
       "   resp3\n",
       "      1\n",
       "  0   8\n",
       "  1 223"
      ]
     },
     "metadata": {},
     "output_type": "display_data"
    },
    {
     "name": "stdout",
     "output_type": "stream",
     "text": [
      "\n",
      "Correlation:"
     ]
    },
    {
     "data": {
      "text/html": [
       "0.965367965367965"
      ],
      "text/latex": [
       "0.965367965367965"
      ],
      "text/markdown": [
       "0.965367965367965"
      ],
      "text/plain": [
       "[1] 0.965368"
      ]
     },
     "metadata": {},
     "output_type": "display_data"
    }
   ],
   "source": [
    "all.ones <- data[data[,ncol(data)]==1,] \n",
    "\n",
    "# Split data\n",
    "exp3 <- all.ones[,-ncol(all.ones)]\n",
    "resp3 <- all.ones[,ncol(all.ones)]\n",
    "\n",
    "cat(\"\\nEvaluation:\")\n",
    "classify_model %>% evaluate(exp3, resp3, batch_size = 128) \n",
    "\n",
    "# Confusion matrix (?)\n",
    "cat(\"\\nConfusion Matrix:\")\n",
    "predictions3 <- predict(classify_model, exp3) # each row is a picture and each column is a category so each cell is a prob.\n",
    "table(round(predictions3), resp3) # confusion matrix (but why must I round here?)\n",
    "\n",
    "# Corr\n",
    "#cor.test(predictions, resp2)\n",
    "cat(\"\\nCorrelation:\")\n",
    "sum(round(predictions3)==1)/length(resp3)"
   ]
  },
  {
   "cell_type": "code",
   "execution_count": 149,
   "id": "ac4a997a",
   "metadata": {},
   "outputs": [
    {
     "data": {
      "text/html": [
       "<style>\n",
       ".list-inline {list-style: none; margin:0; padding: 0}\n",
       ".list-inline>li {display: inline-block}\n",
       ".list-inline>li:not(:last-child)::after {content: \"\\00b7\"; padding: 0 .5ex}\n",
       "</style>\n",
       "<ol class=list-inline><li>231</li><li>154</li></ol>\n"
      ],
      "text/latex": [
       "\\begin{enumerate*}\n",
       "\\item 231\n",
       "\\item 154\n",
       "\\end{enumerate*}\n"
      ],
      "text/markdown": [
       "1. 231\n",
       "2. 154\n",
       "\n",
       "\n"
      ],
      "text/plain": [
       "[1] 231 154"
      ]
     },
     "metadata": {},
     "output_type": "display_data"
    }
   ],
   "source": [
    "dim(all.ones)"
   ]
  }
 ],
 "metadata": {
  "kernelspec": {
   "display_name": "R",
   "language": "R",
   "name": "ir"
  },
  "language_info": {
   "codemirror_mode": "r",
   "file_extension": ".r",
   "mimetype": "text/x-r-source",
   "name": "R",
   "pygments_lexer": "r",
   "version": "4.0.3"
  }
 },
 "nbformat": 4,
 "nbformat_minor": 5
}
