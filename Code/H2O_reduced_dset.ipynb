{
 "cells": [
  {
   "cell_type": "markdown",
   "id": "78fdb325",
   "metadata": {},
   "source": [
    "# Training a neural net with H20 (reduced dset)"
   ]
  },
  {
   "cell_type": "markdown",
   "id": "e0eed0b2",
   "metadata": {},
   "source": [
    "**Import and initialise cluster**"
   ]
  },
  {
   "cell_type": "code",
   "execution_count": 24,
   "id": "f983a2f0",
   "metadata": {
    "scrolled": true
   },
   "outputs": [
    {
     "name": "stdout",
     "output_type": "stream",
     "text": [
      " Connection successful!\n",
      "\n",
      "R is connected to the H2O cluster: \n",
      "    H2O cluster uptime:         5 minutes 56 seconds \n",
      "    H2O cluster timezone:       Europe/London \n",
      "    H2O data parsing timezone:  UTC \n",
      "    H2O cluster version:        3.32.1.2 \n",
      "    H2O cluster version age:    27 days  \n",
      "    H2O cluster name:           H2O_started_from_R_lukeswaby-petts_flh799 \n",
      "    H2O cluster total nodes:    1 \n",
      "    H2O cluster total memory:   4.00 GB \n",
      "    H2O cluster total cores:    4 \n",
      "    H2O cluster allowed cores:  4 \n",
      "    H2O cluster healthy:        TRUE \n",
      "    H2O Connection ip:          localhost \n",
      "    H2O Connection port:        54321 \n",
      "    H2O Connection proxy:       NA \n",
      "    H2O Internal Security:      FALSE \n",
      "    H2O API Extensions:         Amazon S3, XGBoost, Algos, AutoML, Core V3, TargetEncoder, Core V4 \n",
      "    R Version:                  R version 4.0.3 (2020-10-10) \n",
      "\n"
     ]
    }
   ],
   "source": [
    "library(h2o)\n",
    "h2o.init()"
   ]
  },
  {
   "cell_type": "markdown",
   "id": "74bc1d12",
   "metadata": {},
   "source": [
    "**Import data**"
   ]
  },
  {
   "cell_type": "code",
   "execution_count": 25,
   "id": "fb600117",
   "metadata": {},
   "outputs": [
    {
     "name": "stdout",
     "output_type": "stream",
     "text": [
      "  |======================================================================| 100%\n",
      "  |======================================================================| 100%\n"
     ]
    }
   ],
   "source": [
    "train = h2o.importFile(\"../Data/Reduced/train_reduced_dset.csv\")\n",
    "test = h2o.importFile(\"../Data/Reduced/test_reduced_dset.csv\")"
   ]
  },
  {
   "cell_type": "markdown",
   "id": "54de4d08",
   "metadata": {},
   "source": [
    "**Set factors**"
   ]
  },
  {
   "cell_type": "code",
   "execution_count": 26,
   "id": "084d720f",
   "metadata": {},
   "outputs": [],
   "source": [
    "# Rename final cols\n",
    "colnames(train)[length(colnames(train))] = colnames(test)[length(colnames(test))] = 'Dives'\n",
    "\n",
    "# Set factors\n",
    "train$Dives = as.factor(train$Dives)\n",
    "test$Dives = as.factor(test$Dives)"
   ]
  },
  {
   "cell_type": "markdown",
   "id": "e1973554",
   "metadata": {},
   "source": [
    "**Build and train model**"
   ]
  },
  {
   "cell_type": "code",
   "execution_count": 38,
   "id": "696b9abd",
   "metadata": {},
   "outputs": [
    {
     "name": "stdout",
     "output_type": "stream",
     "text": [
      "  |======================================================================| 100%\n",
      "  |======================================================================| 100%\n"
     ]
    }
   ],
   "source": [
    "# Build and train the model:\n",
    "dl <- h2o.deeplearning(y = \"Dives\",\n",
    "                       distribution = \"bernoulli\",\n",
    "                       hidden = c(200, 200),\n",
    "                       epochs = 200,\n",
    "                       train_samples_per_iteration = -1,\n",
    "                       activation = \"RectifierWithDropout\",\n",
    "                       input_dropout_ratio = 0.2,\n",
    "                       hidden_dropout_ratios = c(0.2, 0.2),\n",
    "                       single_node_mode = FALSE,\n",
    "                       balance_classes = FALSE,\n",
    "                       force_load_balance = FALSE,\n",
    "                       seed = 23123,\n",
    "                       score_training_samples = 0,\n",
    "                       score_validation_samples = 0,\n",
    "                       training_frame = train,\n",
    "                       stopping_rounds = 0)"
   ]
  },
  {
   "cell_type": "markdown",
   "id": "4babeca1",
   "metadata": {},
   "source": [
    "**Evaluate**"
   ]
  },
  {
   "cell_type": "code",
   "execution_count": null,
   "id": "2437a8fd",
   "metadata": {},
   "outputs": [],
   "source": [
    "# Eval performance:\n",
    "perf <- h2o.performance(dl, test)\n",
    "\n",
    "# Generate predictions on a test set (if necessary):\n",
    "pred <- h2o.predict(dl, newdata = test)"
   ]
  },
  {
   "cell_type": "code",
   "execution_count": 39,
   "id": "503ff83d",
   "metadata": {},
   "outputs": [
    {
     "data": {
      "text/plain": [
       "H2OBinomialMetrics: deeplearning\n",
       "\n",
       "MSE:  0.0134631\n",
       "RMSE:  0.1160306\n",
       "LogLoss:  0.1063337\n",
       "Mean Per-Class Error:  0.01379159\n",
       "AUC:  0.9969158\n",
       "AUCPR:  0.9942913\n",
       "Gini:  0.9938316\n",
       "\n",
       "Confusion Matrix (vertical: actual; across: predicted) for F1-optimal threshold:\n",
       "          0    1    Error      Rate\n",
       "0      2323   48 0.020245  =48/2371\n",
       "1        15 2029 0.007339  =15/2044\n",
       "Totals 2338 2077 0.014270  =63/4415\n",
       "\n",
       "Maximum Metrics: Maximum metrics at their respective thresholds\n",
       "                        metric threshold       value idx\n",
       "1                       max f1  0.324509    0.984712 231\n",
       "2                       max f2  0.014510    0.991061 270\n",
       "3                 max f0point5  0.984470    0.981544 176\n",
       "4                 max accuracy  0.324509    0.985730 231\n",
       "5                max precision  0.999999    0.996084   2\n",
       "6                   max recall  0.000000    1.000000 397\n",
       "7              max specificity  1.000000    0.997469   0\n",
       "8             max absolute_mcc  0.324509    0.971445 231\n",
       "9   max min_per_class_accuracy  0.876054    0.982708 204\n",
       "10 max mean_per_class_accuracy  0.324509    0.986208 231\n",
       "11                     max tns  1.000000 2365.000000   0\n",
       "12                     max fns  1.000000  654.000000   0\n",
       "13                     max fps  0.000000 2371.000000 399\n",
       "14                     max tps  0.000000 2044.000000 397\n",
       "15                     max tnr  1.000000    0.997469   0\n",
       "16                     max fnr  1.000000    0.319961   0\n",
       "17                     max fpr  0.000000    1.000000 399\n",
       "18                     max tpr  0.000000    1.000000 397\n",
       "\n",
       "Gains/Lift Table: Extract with `h2o.gainsLift(<model>, <data>)` or `h2o.gainsLift(<model>, valid=<T/F>, xval=<T/F>)`"
      ]
     },
     "metadata": {},
     "output_type": "display_data"
    }
   ],
   "source": [
    "perf"
   ]
  },
  {
   "cell_type": "markdown",
   "id": "15377a5a",
   "metadata": {},
   "source": [
    "**(Shutdown)**"
   ]
  },
  {
   "cell_type": "code",
   "execution_count": 22,
   "id": "3c57a63d",
   "metadata": {
    "scrolled": true
   },
   "outputs": [
    {
     "name": "stdout",
     "output_type": "stream",
     "text": [
      "Are you sure you want to shutdown the H2O instance running at http://localhost:54321/ (Y/N)? Y\n"
     ]
    }
   ],
   "source": [
    "h2o.shutdown()"
   ]
  }
 ],
 "metadata": {
  "kernelspec": {
   "display_name": "R",
   "language": "R",
   "name": "ir"
  },
  "language_info": {
   "codemirror_mode": "r",
   "file_extension": ".r",
   "mimetype": "text/x-r-source",
   "name": "R",
   "pygments_lexer": "r",
   "version": "4.0.3"
  }
 },
 "nbformat": 4,
 "nbformat_minor": 5
}
