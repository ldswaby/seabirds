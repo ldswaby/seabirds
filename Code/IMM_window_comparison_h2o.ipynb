{
 "cells": [
  {
   "cell_type": "markdown",
   "id": "d7f9d225",
   "metadata": {},
   "source": [
    "# Immersion Window Comparison - H2O"
   ]
  },
  {
   "cell_type": "markdown",
   "id": "10e4f27c",
   "metadata": {},
   "source": [
    "### Imports"
   ]
  },
  {
   "cell_type": "code",
   "execution_count": 1,
   "id": "4d964299",
   "metadata": {},
   "outputs": [
    {
     "name": "stdout",
     "output_type": "stream",
     "text": [
      "Checking whether there is an H2O instance running at http://localhost:54321 . connected.\n"
     ]
    },
    {
     "data": {
      "text/html": [
       "<div style=\"overflow:auto\"><table style=\"width:50%\"><tr><td>H2O_cluster_uptime:</td>\n",
       "<td>1 day 22 hours 59 mins</td></tr>\n",
       "<tr><td>H2O_cluster_timezone:</td>\n",
       "<td>Europe/London</td></tr>\n",
       "<tr><td>H2O_data_parsing_timezone:</td>\n",
       "<td>UTC</td></tr>\n",
       "<tr><td>H2O_cluster_version:</td>\n",
       "<td>3.32.1.3</td></tr>\n",
       "<tr><td>H2O_cluster_version_age:</td>\n",
       "<td>1 month and 22 days </td></tr>\n",
       "<tr><td>H2O_cluster_name:</td>\n",
       "<td>H2O_from_python_alexzamar_r2ignr</td></tr>\n",
       "<tr><td>H2O_cluster_total_nodes:</td>\n",
       "<td>1</td></tr>\n",
       "<tr><td>H2O_cluster_free_memory:</td>\n",
       "<td>99.2 Gb</td></tr>\n",
       "<tr><td>H2O_cluster_total_cores:</td>\n",
       "<td>4</td></tr>\n",
       "<tr><td>H2O_cluster_allowed_cores:</td>\n",
       "<td>4</td></tr>\n",
       "<tr><td>H2O_cluster_status:</td>\n",
       "<td>locked, healthy</td></tr>\n",
       "<tr><td>H2O_connection_url:</td>\n",
       "<td>http://localhost:54321</td></tr>\n",
       "<tr><td>H2O_connection_proxy:</td>\n",
       "<td>{\"http\": null, \"https\": null}</td></tr>\n",
       "<tr><td>H2O_internal_security:</td>\n",
       "<td>False</td></tr>\n",
       "<tr><td>H2O_API_Extensions:</td>\n",
       "<td>Amazon S3, XGBoost, Algos, AutoML, Core V3, TargetEncoder, Core V4</td></tr>\n",
       "<tr><td>Python_version:</td>\n",
       "<td>3.9.6 final</td></tr></table></div>"
      ],
      "text/plain": [
       "--------------------------  ------------------------------------------------------------------\n",
       "H2O_cluster_uptime:         1 day 22 hours 59 mins\n",
       "H2O_cluster_timezone:       Europe/London\n",
       "H2O_data_parsing_timezone:  UTC\n",
       "H2O_cluster_version:        3.32.1.3\n",
       "H2O_cluster_version_age:    1 month and 22 days\n",
       "H2O_cluster_name:           H2O_from_python_alexzamar_r2ignr\n",
       "H2O_cluster_total_nodes:    1\n",
       "H2O_cluster_free_memory:    99.2 Gb\n",
       "H2O_cluster_total_cores:    4\n",
       "H2O_cluster_allowed_cores:  4\n",
       "H2O_cluster_status:         locked, healthy\n",
       "H2O_connection_url:         http://localhost:54321\n",
       "H2O_connection_proxy:       {\"http\": null, \"https\": null}\n",
       "H2O_internal_security:      False\n",
       "H2O_API_Extensions:         Amazon S3, XGBoost, Algos, AutoML, Core V3, TargetEncoder, Core V4\n",
       "Python_version:             3.9.6 final\n",
       "--------------------------  ------------------------------------------------------------------"
      ]
     },
     "metadata": {},
     "output_type": "display_data"
    }
   ],
   "source": [
    "import h2o\n",
    "from h2o.estimators import H2ODeepLearningEstimator\n",
    "import pandas as pd\n",
    "import numpy as np\n",
    "import glob\n",
    "import re\n",
    "import matplotlib.pyplot as plt\n",
    "\n",
    "h2o.init()"
   ]
  },
  {
   "cell_type": "markdown",
   "id": "371880fd",
   "metadata": {},
   "source": [
    "### Build, train, and cross-validate models"
   ]
  },
  {
   "cell_type": "code",
   "execution_count": 96,
   "id": "4d52725f",
   "metadata": {},
   "outputs": [
    {
     "name": "stdout",
     "output_type": "stream",
     "text": [
      "Parse progress: |█████████████████████████████████████████████████████████| 100%\n",
      "deeplearning Model Build progress: |██████████████████████████████████████| 100%\n",
      "Parse progress: |█████████████████████████████████████████████████████████| 100%\n",
      "deeplearning Model Build progress: |██████████████████████████████████████| 100%\n",
      "Parse progress: |█████████████████████████████████████████████████████████| 100%\n",
      "deeplearning Model Build progress: |██████████████████████████████████████| 100%\n",
      "Parse progress: |█████████████████████████████████████████████████████████| 100%\n",
      "deeplearning Model Build progress: |██████████████████████████████████████| 100%\n",
      "Parse progress: |█████████████████████████████████████████████████████████| 100%\n",
      "deeplearning Model Build progress: |██████████████████████████████████████| 100%\n",
      "Parse progress: |█████████████████████████████████████████████████████████| 100%\n",
      "deeplearning Model Build progress: |██████████████████████████████████████| 100%\n"
     ]
    }
   ],
   "source": [
    "files = glob.glob('../Data/Reduced/IMM*.csv')\n",
    "\n",
    "for f in files:\n",
    "    # Load data\n",
    "    data = h2o.import_file(f, header=1)\n",
    "    data['Dive'] = data['Dive'].asfactor()\n",
    "    data['BirdID'] = data['BirdID'].asfactor()\n",
    "    \n",
    "    # Extract model ID from filepath\n",
    "    wdw = re.search(r\"/IMM(\\d+)_reduced\", f).group(1)\n",
    "    idd = 'IMM_window_' + wdw\n",
    "    \n",
    "    # Build and train the model:\n",
    "    dl_cross = H2ODeepLearningEstimator(model_id = idd,\n",
    "                                        distribution = \"bernoulli\",\n",
    "                                        hidden = [200, 200],\n",
    "                                        fold_column = 'BirdID',\n",
    "                                        keep_cross_validation_models = True,\n",
    "                                        keep_cross_validation_fold_assignment = True,\n",
    "                                        keep_cross_validation_predictions = True,\n",
    "                                        score_each_iteration = True,\n",
    "                                        epochs = 50,\n",
    "                                        train_samples_per_iteration = -1,\n",
    "                                        activation = \"RectifierWithDropout\",\n",
    "                                        input_dropout_ratio = 0.2,\n",
    "                                        hidden_dropout_ratios = [0.2, 0.2],\n",
    "                                        single_node_mode = False,\n",
    "                                        balance_classes = False,\n",
    "                                        force_load_balance = False,\n",
    "                                        seed = 23123,\n",
    "                                        score_training_samples = 0,\n",
    "                                        score_validation_samples = 0,\n",
    "                                        stopping_rounds = 0)\n",
    "\n",
    "    dl_cross.train(x = data.columns[1:-1],\n",
    "                   y=\"Dive\",\n",
    "                   training_frame=data)\n",
    "    \n",
    "    # Save model\n",
    "    h2o.save_model(model=dl_cross, path=\"../Results/Reduced/H2O_IMM_XVal_Models/\", force=True)"
   ]
  },
  {
   "cell_type": "markdown",
   "id": "eee04c33",
   "metadata": {},
   "source": [
    "### Evaluate models"
   ]
  },
  {
   "cell_type": "code",
   "execution_count": 10,
   "id": "d9e025b0",
   "metadata": {
    "scrolled": true
   },
   "outputs": [
    {
     "data": {
      "text/html": [
       "<div>\n",
       "<style scoped>\n",
       "    .dataframe tbody tr th:only-of-type {\n",
       "        vertical-align: middle;\n",
       "    }\n",
       "\n",
       "    .dataframe tbody tr th {\n",
       "        vertical-align: top;\n",
       "    }\n",
       "\n",
       "    .dataframe thead th {\n",
       "        text-align: right;\n",
       "    }\n",
       "</style>\n",
       "<table border=\"1\" class=\"dataframe\">\n",
       "  <thead>\n",
       "    <tr style=\"text-align: right;\">\n",
       "      <th></th>\n",
       "      <th>Accuracy</th>\n",
       "      <th>AUC</th>\n",
       "      <th>Sensitivity</th>\n",
       "      <th>Specificity</th>\n",
       "    </tr>\n",
       "    <tr>\n",
       "      <th>Window (s)</th>\n",
       "      <th></th>\n",
       "      <th></th>\n",
       "      <th></th>\n",
       "      <th></th>\n",
       "    </tr>\n",
       "  </thead>\n",
       "  <tbody>\n",
       "    <tr>\n",
       "      <th>120</th>\n",
       "      <td>0.899045</td>\n",
       "      <td>0.928940</td>\n",
       "      <td>0.904088</td>\n",
       "      <td>0.894647</td>\n",
       "    </tr>\n",
       "    <tr>\n",
       "      <th>180</th>\n",
       "      <td>0.912163</td>\n",
       "      <td>0.948984</td>\n",
       "      <td>0.945191</td>\n",
       "      <td>0.880581</td>\n",
       "    </tr>\n",
       "    <tr>\n",
       "      <th>240</th>\n",
       "      <td>0.920811</td>\n",
       "      <td>0.956735</td>\n",
       "      <td>0.945910</td>\n",
       "      <td>0.896549</td>\n",
       "    </tr>\n",
       "    <tr>\n",
       "      <th>300</th>\n",
       "      <td>0.924332</td>\n",
       "      <td>0.963748</td>\n",
       "      <td>0.958844</td>\n",
       "      <td>0.890825</td>\n",
       "    </tr>\n",
       "    <tr>\n",
       "      <th>480</th>\n",
       "      <td>0.920994</td>\n",
       "      <td>0.962822</td>\n",
       "      <td>0.971331</td>\n",
       "      <td>0.874496</td>\n",
       "    </tr>\n",
       "    <tr>\n",
       "      <th>600</th>\n",
       "      <td>0.923452</td>\n",
       "      <td>0.959010</td>\n",
       "      <td>0.970020</td>\n",
       "      <td>0.878939</td>\n",
       "    </tr>\n",
       "  </tbody>\n",
       "</table>\n",
       "</div>"
      ],
      "text/plain": [
       "            Accuracy       AUC  Sensitivity  Specificity\n",
       "Window (s)                                              \n",
       "120         0.899045  0.928940     0.904088     0.894647\n",
       "180         0.912163  0.948984     0.945191     0.880581\n",
       "240         0.920811  0.956735     0.945910     0.896549\n",
       "300         0.924332  0.963748     0.958844     0.890825\n",
       "480         0.920994  0.962822     0.971331     0.874496\n",
       "600         0.923452  0.959010     0.970020     0.878939"
      ]
     },
     "execution_count": 10,
     "metadata": {},
     "output_type": "execute_result"
    }
   ],
   "source": [
    "# Retrieve file paths\n",
    "models = glob.glob('../Data/Reduced/H2O_IMM_XVal_Models/*')\n",
    "all_mets = pd.DataFrame(columns=['Accuracy', 'AUC', 'Sensitivity', 'Specificity'])\n",
    "\n",
    "for mod_pth in models:\n",
    "    \n",
    "    wdw = re.match('.*?([0-9]+)$', mod_pth).group(1)  # window size\n",
    "    \n",
    "    #print(f'PROCESSING MODEL: {mod_pth}...')\n",
    "    model = h2o.load_model(mod_pth)\n",
    "    \n",
    "    # Pull out X-validation metrics\n",
    "    metrics = model.cross_validation_metrics_summary().as_data_frame()\n",
    "    metrics.set_index('', inplace=True)\n",
    "    metrics = metrics.astype(float)\n",
    "    \n",
    "    accuracy = metrics['mean']['accuracy']\n",
    "    auc = metrics['mean']['auc']\n",
    "    sensitivity = metrics['mean']['recall']\n",
    "    specificity = metrics['mean']['specificity']\n",
    "    \n",
    "    #conf_matrix = np.array(model.confusion_matrix().to_list())\n",
    "    #truepos, falsepos, falseneg, trueneg = conf_matrix.flatten()\n",
    "    \n",
    "    all_mets.loc[wdw] = [accuracy, auc, sensitivity, specificity]\n",
    "\n",
    "# Sort and show data\n",
    "all_mets.sort_index(ascending=True, axis=0, inplace=True)\n",
    "all_mets.index.name = 'Window (s)'\n",
    "all_mets"
   ]
  },
  {
   "cell_type": "markdown",
   "id": "b7ed4273",
   "metadata": {},
   "source": [
    "### Plot"
   ]
  },
  {
   "cell_type": "code",
   "execution_count": 12,
   "id": "fa1441f6",
   "metadata": {},
   "outputs": [
    {
     "data": {
      "image/png": "[encoded data removed]",
      "text/plain": [
       "<Figure size 432x288 with 1 Axes>"
      ]
     },
     "metadata": {
      "needs_background": "light"
     },
     "output_type": "display_data"
    }
   ],
   "source": [
    "all_mets.plot.bar()\n",
    "\n",
    "# Furnish plot\n",
    "plt.xlabel(\"Window Size (s)\")\n",
    "plt.xticks(rotation=0)\n",
    "plt.ylabel(\"Score\")\n",
    "plt.ylim([0.85, 1.0])\n",
    "plt.title('Model Metrics')\n",
    "\n",
    "plt.show()"
   ]
  },
  {
   "cell_type": "markdown",
   "id": "0704f5fe",
   "metadata": {},
   "source": [
    "**CONCLUSION:** A window size of 300s (5 mins) attained the highest accuracy and AUC scores predicting dives from immersion data (0.924 and 0.964 respectively)"
   ]
  },
  {
   "cell_type": "markdown",
   "id": "49c7550e",
   "metadata": {},
   "source": [
    "# Keras"
   ]
  },
  {
   "cell_type": "code",
   "execution_count": 5,
   "id": "7671bc51",
   "metadata": {},
   "outputs": [],
   "source": [
    "import pandas as pd\n",
    "import matplotlib.pyplot as plt"
   ]
  },
  {
   "cell_type": "code",
   "execution_count": 15,
   "id": "fcc18476",
   "metadata": {},
   "outputs": [],
   "source": [
    "all_mets = pd.read_csv('../Results/IMM_WindowComp_xval_metrics_Keras.csv')"
   ]
  },
  {
   "cell_type": "code",
   "execution_count": 16,
   "id": "a0642e63",
   "metadata": {},
   "outputs": [
    {
     "data": {
      "image/png": "[encoded data removed]",
      "text/plain": [
       "<Figure size 432x288 with 1 Axes>"
      ]
     },
     "metadata": {
      "needs_background": "light"
     },
     "output_type": "display_data"
    }
   ],
   "source": [
    "all_mets.set_index('Window Size (s)', inplace=True)\n",
    "plt_mets = all_mets.iloc[:,:4]\n",
    "\n",
    "plt_mets.plot.bar()\n",
    "\n",
    "# Furnish plot\n",
    "plt.xlabel(\"Window Size (s)\")\n",
    "plt.xticks(rotation=0)\n",
    "plt.ylabel(\"Score\")\n",
    "plt.ylim([0.85, 1.0])\n",
    "plt.title('Model Metrics')\n",
    "\n",
    "plt.show()"
   ]
  },
  {
   "cell_type": "code",
   "execution_count": 22,
   "id": "1870cef8",
   "metadata": {},
   "outputs": [
    {
     "data": {
      "text/html": [
       "<div>\n",
       "<style scoped>\n",
       "    .dataframe tbody tr th:only-of-type {\n",
       "        vertical-align: middle;\n",
       "    }\n",
       "\n",
       "    .dataframe tbody tr th {\n",
       "        vertical-align: top;\n",
       "    }\n",
       "\n",
       "    .dataframe thead th {\n",
       "        text-align: right;\n",
       "    }\n",
       "</style>\n",
       "<table border=\"1\" class=\"dataframe\">\n",
       "  <thead>\n",
       "    <tr style=\"text-align: right;\">\n",
       "      <th></th>\n",
       "      <th>Accuracy</th>\n",
       "      <th>AUC</th>\n",
       "      <th>Sensitivity</th>\n",
       "      <th>Specificity</th>\n",
       "    </tr>\n",
       "    <tr>\n",
       "      <th>Window Size (s)</th>\n",
       "      <th></th>\n",
       "      <th></th>\n",
       "      <th></th>\n",
       "      <th></th>\n",
       "    </tr>\n",
       "  </thead>\n",
       "  <tbody>\n",
       "    <tr>\n",
       "      <th>120</th>\n",
       "      <td>0.895906</td>\n",
       "      <td>0.931838</td>\n",
       "      <td>0.872913</td>\n",
       "      <td>0.885118</td>\n",
       "    </tr>\n",
       "    <tr>\n",
       "      <th>180</th>\n",
       "      <td>0.913270</td>\n",
       "      <td>0.952039</td>\n",
       "      <td>0.922485</td>\n",
       "      <td>0.923594</td>\n",
       "    </tr>\n",
       "    <tr>\n",
       "      <th>240</th>\n",
       "      <td>0.889582</td>\n",
       "      <td>0.960598</td>\n",
       "      <td>0.950428</td>\n",
       "      <td>0.949038</td>\n",
       "    </tr>\n",
       "    <tr>\n",
       "      <th>300</th>\n",
       "      <td>0.919816</td>\n",
       "      <td>0.964432</td>\n",
       "      <td>0.952415</td>\n",
       "      <td>0.952324</td>\n",
       "    </tr>\n",
       "    <tr>\n",
       "      <th>360</th>\n",
       "      <td>0.891299</td>\n",
       "      <td>0.965896</td>\n",
       "      <td>0.966783</td>\n",
       "      <td>0.964213</td>\n",
       "    </tr>\n",
       "    <tr>\n",
       "      <th>420</th>\n",
       "      <td>0.890645</td>\n",
       "      <td>0.966428</td>\n",
       "      <td>0.963776</td>\n",
       "      <td>0.961086</td>\n",
       "    </tr>\n",
       "    <tr>\n",
       "      <th>480</th>\n",
       "      <td>0.892335</td>\n",
       "      <td>0.965218</td>\n",
       "      <td>0.971074</td>\n",
       "      <td>0.969936</td>\n",
       "    </tr>\n",
       "    <tr>\n",
       "      <th>540</th>\n",
       "      <td>0.919816</td>\n",
       "      <td>0.965262</td>\n",
       "      <td>0.968205</td>\n",
       "      <td>0.966859</td>\n",
       "    </tr>\n",
       "    <tr>\n",
       "      <th>600</th>\n",
       "      <td>0.920212</td>\n",
       "      <td>0.964629</td>\n",
       "      <td>0.967972</td>\n",
       "      <td>0.966033</td>\n",
       "    </tr>\n",
       "  </tbody>\n",
       "</table>\n",
       "</div>"
      ],
      "text/plain": [
       "                 Accuracy       AUC  Sensitivity  Specificity\n",
       "Window Size (s)                                              \n",
       "120              0.895906  0.931838     0.872913     0.885118\n",
       "180              0.913270  0.952039     0.922485     0.923594\n",
       "240              0.889582  0.960598     0.950428     0.949038\n",
       "300              0.919816  0.964432     0.952415     0.952324\n",
       "360              0.891299  0.965896     0.966783     0.964213\n",
       "420              0.890645  0.966428     0.963776     0.961086\n",
       "480              0.892335  0.965218     0.971074     0.969936\n",
       "540              0.919816  0.965262     0.968205     0.966859\n",
       "600              0.920212  0.964629     0.967972     0.966033"
      ]
     },
     "execution_count": 22,
     "metadata": {},
     "output_type": "execute_result"
    }
   ],
   "source": [
    "plt_mets"
   ]
  },
  {
   "cell_type": "code",
   "execution_count": 31,
   "id": "264b1c40",
   "metadata": {
    "scrolled": true
   },
   "outputs": [
    {
     "data": {
      "image/png": "[encoded data removed]",
      "text/plain": [
       "<Figure size 432x288 with 1 Axes>"
      ]
     },
     "metadata": {
      "needs_background": "light"
     },
     "output_type": "display_data"
    }
   ],
   "source": [
    "plt_mets.loc[[120, 180, 240, 300, 360, 480, 600]].plot.bar()\n",
    "# Furnish plot\n",
    "plt.xlabel(\"Window Size (s)\")\n",
    "plt.xticks(rotation=0)\n",
    "plt.ylabel(\"Score\")\n",
    "plt.ylim([0.85, 1.0])\n",
    "plt.title('Model Metrics (Keras)')\n",
    "\n",
    "plt.show()"
   ]
  },
  {
   "cell_type": "code",
   "execution_count": null,
   "id": "04b25957",
   "metadata": {},
   "outputs": [],
   "source": []
  }
 ],
 "metadata": {
  "kernelspec": {
   "display_name": "Python 3 (ipykernel)",
   "language": "python",
   "name": "python3"
  },
  "language_info": {
   "codemirror_mode": {
    "name": "ipython",
    "version": 3
   },
   "file_extension": ".py",
   "mimetype": "text/x-python",
   "name": "python",
   "nbconvert_exporter": "python",
   "pygments_lexer": "ipython3",
   "version": "3.9.6"
  }
 },
 "nbformat": 4,
 "nbformat_minor": 5
}
